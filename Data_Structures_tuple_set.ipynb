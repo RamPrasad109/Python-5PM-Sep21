{
 "cells": [
  {
   "cell_type": "code",
   "execution_count": 9,
   "id": "66c435e2",
   "metadata": {},
   "outputs": [
    {
     "name": "stdout",
     "output_type": "stream",
     "text": [
      "<class 'tuple'>\n"
     ]
    }
   ],
   "source": [
    "t = ()\n",
    "print(type (t))\n"
   ]
  },
  {
   "cell_type": "code",
   "execution_count": 10,
   "id": "1250e1fb",
   "metadata": {},
   "outputs": [
    {
     "name": "stdout",
     "output_type": "stream",
     "text": [
      "<class 'list'>\n",
      "<class 'tuple'>\n"
     ]
    }
   ],
   "source": [
    "l=[10,20,30]\n",
    "print(type(l))\n",
    "t=tuple(l)\n",
    "print(type(t))"
   ]
  },
  {
   "cell_type": "code",
   "execution_count": 8,
   "id": "53d0eb3d",
   "metadata": {},
   "outputs": [
    {
     "name": "stdout",
     "output_type": "stream",
     "text": [
      "<class 'tuple'>\n"
     ]
    }
   ],
   "source": [
    "t=tuple()\n",
    "print(type(t))"
   ]
  },
  {
   "cell_type": "code",
   "execution_count": 13,
   "id": "a2a65eb8",
   "metadata": {},
   "outputs": [
    {
     "name": "stdout",
     "output_type": "stream",
     "text": [
      "{10, 20, 30}\n",
      "(10, 20, 30)\n"
     ]
    }
   ],
   "source": [
    "s={10,20,30,20,30}\n",
    "t=tuple(s)\n",
    "print (s)\n",
    "type(t)\n",
    "print(t)"
   ]
  },
  {
   "cell_type": "code",
   "execution_count": 18,
   "id": "d228d472",
   "metadata": {},
   "outputs": [
    {
     "name": "stdout",
     "output_type": "stream",
     "text": [
      "6\n",
      "2\n"
     ]
    }
   ],
   "source": [
    "#len() is a function to print the no of elements of the tuple\n",
    "t=(10,20,30,10,40,50)\n",
    "print(len(t))\n",
    "#count is a function to print the no of occurences of same element in the list /tuple\n",
    "print(t.count(10))"
   ]
  },
  {
   "cell_type": "code",
   "execution_count": 19,
   "id": "5a245d7e",
   "metadata": {
    "scrolled": true
   },
   "outputs": [
    {
     "name": "stdout",
     "output_type": "stream",
     "text": [
      "1\n"
     ]
    }
   ],
   "source": [
    "#index() is a function that will return the index value of the element\n",
    "t=10,20,304,50\n",
    "print(t.index(20))"
   ]
  },
  {
   "cell_type": "code",
   "execution_count": 20,
   "id": "25aa8761",
   "metadata": {},
   "outputs": [
    {
     "name": "stdout",
     "output_type": "stream",
     "text": [
      "[1, 2, 10, 50, 78]\n"
     ]
    }
   ],
   "source": [
    "#sorting will be based on ASCII values\n",
    "t=10,50,1,2,78\n",
    "print(sorted(t))"
   ]
  },
  {
   "cell_type": "code",
   "execution_count": 24,
   "id": "59eda2f4",
   "metadata": {
    "scrolled": true
   },
   "outputs": [
    {
     "name": "stdout",
     "output_type": "stream",
     "text": [
      "1\n"
     ]
    }
   ],
   "source": [
    "#min() function\n",
    "t=10,50,1,2,78\n",
    "print(min(t))"
   ]
  },
  {
   "cell_type": "code",
   "execution_count": 25,
   "id": "03cdd986",
   "metadata": {},
   "outputs": [
    {
     "name": "stdout",
     "output_type": "stream",
     "text": [
      "78\n"
     ]
    }
   ],
   "source": [
    "#max() function\n",
    "t=10,50,1,2,78\n",
    "print(max(t))"
   ]
  },
  {
   "cell_type": "code",
   "execution_count": 27,
   "id": "2f2e27fa",
   "metadata": {},
   "outputs": [
    {
     "name": "stdout",
     "output_type": "stream",
     "text": [
      "(10, 20, 30, 40)\n",
      "10 -- 4 -- 1 -- 80\n"
     ]
    }
   ],
   "source": [
    "#packing and unpacking\n",
    "#packing\n",
    "a=10\n",
    "b=20\n",
    "c=30\n",
    "d=40\n",
    "t=a,b,c,d\n",
    "print(t)\n",
    "#unpacking\n",
    "t=10,4,1,80\n",
    "a,b,c,d=t\n",
    "print(a,\"--\",b,\"--\",c,\"--\",d)"
   ]
  },
  {
   "cell_type": "code",
   "execution_count": 28,
   "id": "2acae39d",
   "metadata": {},
   "outputs": [
    {
     "name": "stdout",
     "output_type": "stream",
     "text": [
      "<class 'dict'>\n"
     ]
    }
   ],
   "source": [
    "#Set Data Structure\n",
    "s={}\n",
    "print(type(s))"
   ]
  },
  {
   "cell_type": "code",
   "execution_count": 30,
   "id": "3153954d",
   "metadata": {},
   "outputs": [
    {
     "name": "stdout",
     "output_type": "stream",
     "text": [
      "3\n"
     ]
    },
    {
     "ename": "AttributeError",
     "evalue": "'set' object has no attribute 'count'",
     "output_type": "error",
     "traceback": [
      "\u001b[1;31m---------------------------------------------------------------------------\u001b[0m",
      "\u001b[1;31mAttributeError\u001b[0m                            Traceback (most recent call last)",
      "\u001b[1;32m<ipython-input-30-4b8796b85635>\u001b[0m in \u001b[0;36m<module>\u001b[1;34m\u001b[0m\n\u001b[0;32m      1\u001b[0m \u001b[0ms\u001b[0m\u001b[1;33m=\u001b[0m\u001b[1;33m{\u001b[0m\u001b[1;36m10\u001b[0m\u001b[1;33m,\u001b[0m\u001b[1;36m50\u001b[0m\u001b[1;33m,\u001b[0m\u001b[1;36m30\u001b[0m\u001b[1;33m,\u001b[0m\u001b[1;36m10\u001b[0m\u001b[1;33m}\u001b[0m\u001b[1;33m\u001b[0m\u001b[1;33m\u001b[0m\u001b[0m\n\u001b[0;32m      2\u001b[0m \u001b[0mprint\u001b[0m\u001b[1;33m(\u001b[0m\u001b[0mlen\u001b[0m\u001b[1;33m(\u001b[0m\u001b[0ms\u001b[0m\u001b[1;33m)\u001b[0m\u001b[1;33m)\u001b[0m\u001b[1;33m\u001b[0m\u001b[1;33m\u001b[0m\u001b[0m\n\u001b[1;32m----> 3\u001b[1;33m \u001b[0mprint\u001b[0m\u001b[1;33m(\u001b[0m\u001b[0ms\u001b[0m\u001b[1;33m.\u001b[0m\u001b[0mcount\u001b[0m\u001b[1;33m(\u001b[0m\u001b[1;36m20\u001b[0m\u001b[1;33m)\u001b[0m\u001b[1;33m)\u001b[0m\u001b[1;33m\u001b[0m\u001b[1;33m\u001b[0m\u001b[0m\n\u001b[0m",
      "\u001b[1;31mAttributeError\u001b[0m: 'set' object has no attribute 'count'"
     ]
    }
   ],
   "source": [
    "s={10,50,30,10}\n",
    "print(len(s))\n",
    "#print(s.count(20))\n"
   ]
  },
  {
   "cell_type": "code",
   "execution_count": 36,
   "id": "e520bc76",
   "metadata": {},
   "outputs": [
    {
     "name": "stdout",
     "output_type": "stream",
     "text": [
      "{10, 50, 20, 30}\n"
     ]
    }
   ],
   "source": [
    "#add function to add one element\n",
    "#In set we don't have indexing. appending will ad \n",
    "s={10,50,30,10}\n",
    "s.add(20)\n",
    "print(s)"
   ]
  },
  {
   "cell_type": "code",
   "execution_count": 41,
   "id": "28caa7f0",
   "metadata": {},
   "outputs": [
    {
     "name": "stdout",
     "output_type": "stream",
     "text": [
      "{40, 10, 50, 20, 60, 30}\n"
     ]
    }
   ],
   "source": [
    "#update(x,y,z)\n",
    "#We have to pass list only to update function; cannot be individual value datatype. It has to be sequence\n",
    "s={10,20,30}\n",
    "l=[40,50,60]\n",
    "s.update(l)\n",
    "print(s)"
   ]
  },
  {
   "cell_type": "code",
   "execution_count": 44,
   "id": "1e7dcd04",
   "metadata": {},
   "outputs": [
    {
     "name": "stdout",
     "output_type": "stream",
     "text": [
      "{40, 10, 20, 30}\n"
     ]
    }
   ],
   "source": [
    "#copy() function\n",
    "s={10,20,30,40}\n",
    "s1=s\n",
    "print(s)"
   ]
  },
  {
   "cell_type": "code",
   "execution_count": 48,
   "id": "251269e3",
   "metadata": {},
   "outputs": [
    {
     "name": "stdout",
     "output_type": "stream",
     "text": [
      "2695795691808\n",
      "2695795691808\n"
     ]
    }
   ],
   "source": [
    "print(id(s))\n",
    "print(id(s1))"
   ]
  },
  {
   "cell_type": "code",
   "execution_count": 49,
   "id": "b66bae43",
   "metadata": {},
   "outputs": [
    {
     "name": "stdout",
     "output_type": "stream",
     "text": [
      "{40, 10, 300, 20, 30}\n"
     ]
    }
   ],
   "source": [
    "s1.add(300)\n",
    "print(s1)"
   ]
  },
  {
   "cell_type": "code",
   "execution_count": 55,
   "id": "5cb0d8a1",
   "metadata": {},
   "outputs": [
    {
     "name": "stdout",
     "output_type": "stream",
     "text": [
      "{10, 20, 30}\n",
      "2695795691808\n",
      "2695794404928\n",
      "{10, 20, 30}\n",
      "10\n"
     ]
    }
   ],
   "source": [
    "s={10,20,30}\n",
    "s1=s.copy()\n",
    "print(s1)\n",
    "print(id(s))\n",
    "print(id(s1))\n",
    "print(s)\n",
    "#pop is a function which will return one element from set\n",
    "print(s.pop())"
   ]
  },
  {
   "cell_type": "code",
   "execution_count": 61,
   "id": "dd0d8b56",
   "metadata": {},
   "outputs": [
    {
     "name": "stdout",
     "output_type": "stream",
     "text": [
      "None\n",
      "{10, 30}\n",
      "None\n"
     ]
    }
   ],
   "source": [
    "#remove() element. will raise an error when there is no element\n",
    "s={10,20,30}\n",
    "print(s.remove(20))\n",
    "print(s)\n",
    "print(s.discard(2000))\n"
   ]
  },
  {
   "cell_type": "code",
   "execution_count": 64,
   "id": "c795d72c",
   "metadata": {},
   "outputs": [
    {
     "name": "stdout",
     "output_type": "stream",
     "text": [
      "set()\n"
     ]
    }
   ],
   "source": [
    "#clear() function to remove all teh elements\n",
    "s={10,30,20}\n",
    "s.clear()\n",
    "print(s)\n",
    "#del s\n",
    "#print(s)"
   ]
  },
  {
   "cell_type": "code",
   "execution_count": 66,
   "id": "78880893",
   "metadata": {},
   "outputs": [],
   "source": [
    "#del --> del will remove the element and memory\n",
    "# if the memory is not cleared, the file size will keep on increasing.\n",
    "s={10,30,20}\n",
    "del s"
   ]
  },
  {
   "cell_type": "code",
   "execution_count": 70,
   "id": "60cacd55",
   "metadata": {},
   "outputs": [
    {
     "name": "stdout",
     "output_type": "stream",
     "text": [
      "{10, 20, 30}\n"
     ]
    }
   ],
   "source": [
    "s1={10,30,20}\n",
    "s2={1,4,6}\n",
    "#s3=s1+s2 -- Throws an error . Unsupported operation\n",
    "s3= s1-s2\n",
    "print(s3)\n"
   ]
  },
  {
   "cell_type": "code",
   "execution_count": 71,
   "id": "2519460b",
   "metadata": {},
   "outputs": [
    {
     "name": "stdout",
     "output_type": "stream",
     "text": [
      "{1, 20, 4, 6, 10, 30}\n"
     ]
    }
   ],
   "source": [
    "#union - adds two sets. Can use keyword union or symbol | to join 2 sets\n",
    "s1={10,30,20}\n",
    "s2={1,4,6}\n",
    "print(s1.union(s2))"
   ]
  },
  {
   "cell_type": "code",
   "execution_count": 73,
   "id": "c3697509",
   "metadata": {},
   "outputs": [
    {
     "name": "stdout",
     "output_type": "stream",
     "text": [
      "{1, 4, 6, 10, 20, 30}\n"
     ]
    }
   ],
   "source": [
    "s1={10,30,20,4,6}\n",
    "s2={1,4,6,20,30}\n",
    "#print(s1.union(s2))\n",
    "print(s1|s2)"
   ]
  },
  {
   "cell_type": "code",
   "execution_count": 75,
   "id": "30a9204a",
   "metadata": {},
   "outputs": [
    {
     "name": "stdout",
     "output_type": "stream",
     "text": [
      "{4, 20, 6, 30}\n",
      "{4, 20, 6, 30}\n"
     ]
    }
   ],
   "source": [
    "#intersection Can use keyword intersection or symbol & to join 2 sets\n",
    "s1={10,30,20,4,6}\n",
    "s2={1,4,6,20,30}\n",
    "print(s1.intersection(s2))\n",
    "print(s1 & s2)"
   ]
  },
  {
   "cell_type": "code",
   "execution_count": 76,
   "id": "a7478314",
   "metadata": {},
   "outputs": [
    {
     "name": "stdout",
     "output_type": "stream",
     "text": [
      "{1, 10}\n"
     ]
    }
   ],
   "source": [
    "#symmetric difference - the values that doesn't exist in both sets\n",
    "s1={10,30,20,4,6}\n",
    "s2={1,4,6,20,30}\n",
    "print(s1 ^ s2)"
   ]
  },
  {
   "cell_type": "code",
   "execution_count": 80,
   "id": "14503e9f",
   "metadata": {},
   "outputs": [
    {
     "name": "stdout",
     "output_type": "stream",
     "text": [
      "False\n"
     ]
    }
   ],
   "source": [
    "#membership operators - to check if a particular element present in set or not\n",
    "#in , not in\n",
    "s ={10,20,30,40}\n",
    "#print(40 in s)\n",
    "if(40 not in s):\n",
    "    print(\"True\")\n",
    "else:\n",
    "    print(\"False\")"
   ]
  },
  {
   "cell_type": "code",
   "execution_count": 83,
   "id": "b39b33a5",
   "metadata": {},
   "outputs": [
    {
     "name": "stdout",
     "output_type": "stream",
     "text": [
      "Enter string to check:: Hello\n",
      "{'H', 'l'}\n"
     ]
    }
   ],
   "source": [
    "#program to pint the vowels present in a given string\n",
    "s = input(\"Enter string to check:: \")\n",
    "v = {'a','e','i','o','u'}\n",
    "d = set(s)\n",
    "#x = d.difference(v)\n",
    "x=d-v\n",
    "print(x)\n",
    "    "
   ]
  }
 ],
 "metadata": {
  "kernelspec": {
   "display_name": "Python 3",
   "language": "python",
   "name": "python3"
  },
  "language_info": {
   "codemirror_mode": {
    "name": "ipython",
    "version": 3
   },
   "file_extension": ".py",
   "mimetype": "text/x-python",
   "name": "python",
   "nbconvert_exporter": "python",
   "pygments_lexer": "ipython3",
   "version": "3.8.8"
  }
 },
 "nbformat": 4,
 "nbformat_minor": 5
}
