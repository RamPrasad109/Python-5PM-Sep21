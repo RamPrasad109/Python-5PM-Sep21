{
 "cells": [
  {
   "cell_type": "code",
   "execution_count": null,
   "id": "86fb1f65",
   "metadata": {},
   "outputs": [],
   "source": [
    "#program to give grading for students based on marks\n",
    "m=int(input(\"Enter the Marks Secured :: \"))\n",
    "if m<40:\n",
    "    print(\"Fail\")\n",
    "elif m>=40 and m<50:\n",
    "    print(\"C Grade\")\n",
    "elif m>=50 and m<60:\n",
    "    print(\"B Grade\")\n",
    "elif m>=60 and m<70:\n",
    "    print(\"A Grade\")\n",
    "elif m>=70 and m<=100:\n",
    "    print(\"O Grade\")\n",
    "else:\n",
    "    print(\"Wrong Marks Entered\")"
   ]
  },
  {
   "cell_type": "code",
   "execution_count": null,
   "id": "06bd7e0e",
   "metadata": {},
   "outputs": [],
   "source": [
    "#program to convert number to word\n",
    "n= int(input(\"Enter Number to convert : \"))\n",
    "if (n==0):\n",
    "    print(\"zero\")\n",
    "elif(n==1):\n",
    "    print (\"One\")\n",
    "elif(n==2):\n",
    "    print (\"Two\")\n",
    "elif(n==3):\n",
    "    print (\"Three\")\n",
    "elif(n==4):\n",
    "    print (\"Four\")\n",
    "else:\n",
    "    print(\"please enter numbers between 0 to 4 only\")\n",
    "\n"
   ]
  },
  {
   "cell_type": "code",
   "execution_count": 1,
   "id": "148f31c4",
   "metadata": {},
   "outputs": [
    {
     "name": "stdout",
     "output_type": "stream",
     "text": [
      "Enter PIN number8943\n",
      "please choose the option  1. Balance Enquiry 2. PIN Change 3. Withdraw Cash 4. Deposit Cash \n",
      "Enter the option2\n",
      "Enter the curent PIN8943\n",
      "Enter the new PIN1212\n",
      "PIN is updated successfully\n"
     ]
    }
   ],
   "source": [
    "#ATM Program\n",
    "PIN = 8943\n",
    "BAL = 6000\n",
    "n=int(input(\"Enter PIN number\"))\n",
    "if(n==8943):\n",
    "        print(\"please choose the option  1. Balance Enquiry 2. PIN Change 3. Withdraw Cash 4. Deposit Cash \")\n",
    "        o=int(input(\"Enter the option\"))\n",
    "        if(o==1):\n",
    "            print(\"Your Account Balance is :\",BAL)\n",
    "            exit(0)\n",
    "        elif(o==2):\n",
    "            oldPIN = int(input(\"Enter the curent PIN\"))\n",
    "            if (oldPIN == PIN):\n",
    "                newPIN = int(input(\"Enter the new PIN\"))\n",
    "                PIN = newPIN\n",
    "                print(\"PIN is updated successfully\")\n",
    "                exit(0)\n",
    "            else:\n",
    "                print (\"Entered PIN is invalid\")\n",
    "                exit(1)\n",
    "        elif(o==3):\n",
    "                cashToWithdraw = int(input(\"Enter cash to Withdraw\"))\n",
    "                if(cashToWithdraw<=BAL):\n",
    "                    print(\"Transaction in progress\")\n",
    "                    BAL = BAL - cashToWithdraw\n",
    "                    print(\"your new Balance is : \",BAL)\n",
    "                    exit(0)\n",
    "                else:\n",
    "                    print(\"Insufficient Funds\")\n",
    "                    exit(1)\n",
    "        elif(o==4):\n",
    "            cashToDesposit = int(input(\"Enter cash to deposit\"))\n",
    "            newBAL = BAL + cashToDesposit\n",
    "            print(\"your new Balance is :\",newBAL)\n",
    "            exit(0)\n",
    "        else:\n",
    "            print(\"Please enter only options from 1-4\")\n",
    "else:\n",
    "    print(\"You have Entered Invalid PIN\")\n",
    "    exit(1)"
   ]
  },
  {
   "cell_type": "markdown",
   "id": "0a0c903f",
   "metadata": {},
   "source": [
    "###Iterative Statement"
   ]
  },
  {
   "cell_type": "code",
   "execution_count": 33,
   "id": "5cda9b8e",
   "metadata": {},
   "outputs": [
    {
     "name": "stdout",
     "output_type": "stream",
     "text": [
      "6\n"
     ]
    }
   ],
   "source": [
    "#program to print the even numbers\n",
    "count = 0\n",
    "for i in range(2,5):\n",
    "    if i%2==0:\n",
    "        count = count + i;\n",
    "print(count)"
   ]
  },
  {
   "cell_type": "code",
   "execution_count": 42,
   "id": "9535d155",
   "metadata": {},
   "outputs": [
    {
     "name": "stdout",
     "output_type": "stream",
     "text": [
      "2\n",
      "4\n"
     ]
    }
   ],
   "source": [
    "l=[1,2,3,4,5]\n",
    "for i in l:\n",
    "    if i%2==0:\n",
    "        print(i)"
   ]
  },
  {
   "cell_type": "markdown",
   "id": "193a83b3",
   "metadata": {},
   "source": [
    "## for else:"
   ]
  },
  {
   "cell_type": "code",
   "execution_count": 6,
   "id": "32a601f5",
   "metadata": {},
   "outputs": [
    {
     "name": "stdout",
     "output_type": "stream",
     "text": [
      "0\n",
      "2\n",
      "4\n",
      "6\n",
      "8\n",
      "10\n",
      "Execution Completed\n"
     ]
    }
   ],
   "source": [
    "#example program\n",
    "for i in range(11):\n",
    "    if i%2==0:\n",
    "        print (i)\n",
    "else:\n",
    "    print (\"Execution Completed\")"
   ]
  },
  {
   "cell_type": "code",
   "execution_count": 7,
   "id": "edd9cb52",
   "metadata": {},
   "outputs": [
    {
     "name": "stdout",
     "output_type": "stream",
     "text": [
      "0\n",
      "2\n",
      "4\n",
      "6\n",
      "8\n",
      "10\n",
      "Execution Completed\n"
     ]
    }
   ],
   "source": [
    "#example program\n",
    "for i in range(11):\n",
    "    if i%2==0:\n",
    "        print (i)\n",
    "print (\"Execution Completed\")"
   ]
  },
  {
   "cell_type": "code",
   "execution_count": 35,
   "id": "1c731a4b",
   "metadata": {},
   "outputs": [
    {
     "name": "stdout",
     "output_type": "stream",
     "text": [
      "*\n",
      "\n",
      "\n",
      "\n",
      "*\n",
      "\n",
      "\n",
      "\n",
      "*\n",
      "\n",
      "\n",
      "\n",
      "*\n",
      "\n",
      "\n",
      "\n",
      "\n",
      "\n",
      "*\n",
      "\n",
      "\n",
      "\n",
      "*\n",
      "\n",
      "\n",
      "\n",
      "*\n",
      "\n",
      "\n",
      "\n",
      "*\n",
      "\n",
      "\n",
      "\n",
      "\n",
      "\n",
      "*\n",
      "\n",
      "\n",
      "\n",
      "*\n",
      "\n",
      "\n",
      "\n",
      "*\n",
      "\n",
      "\n",
      "\n",
      "*\n",
      "\n",
      "\n",
      "\n",
      "\n",
      "\n",
      "*\n",
      "\n",
      "\n",
      "\n",
      "*\n",
      "\n",
      "\n",
      "\n",
      "*\n",
      "\n",
      "\n",
      "\n",
      "*\n",
      "\n",
      "\n",
      "\n",
      "\n",
      "\n"
     ]
    }
   ],
   "source": [
    "#nested for loop\n",
    "l = [1,2,3,4]\n",
    "for i in range(4):\n",
    "    #print(\"*\")\n",
    "    for j in range(4):\n",
    "        #print()\n",
    "        print (\"*\", end='')\n",
    "        for m in range(4):\n",
    "            #print (\"*\", end='')\n",
    "            print()\n",
    "        #print(\"Hello\",end='')\n",
    "    #print(\"//\")\n",
    "    print()\n",
    "    print()"
   ]
  },
  {
   "cell_type": "code",
   "execution_count": 38,
   "id": "00f0d932",
   "metadata": {},
   "outputs": [
    {
     "name": "stdout",
     "output_type": "stream",
     "text": [
      "****\n",
      "****\n",
      "****\n",
      "****\n"
     ]
    }
   ],
   "source": [
    "#nested for loop\n",
    "l = [1,2,3,4]\n",
    "for i in range(4):\n",
    "    #print(\"*\")\n",
    "    for j in range(4):\n",
    "        #print()\n",
    "        print (\"*\", end='')\n",
    "    print()"
   ]
  }
 ],
 "metadata": {
  "kernelspec": {
   "display_name": "Python 3",
   "language": "python",
   "name": "python3"
  },
  "language_info": {
   "codemirror_mode": {
    "name": "ipython",
    "version": 3
   },
   "file_extension": ".py",
   "mimetype": "text/x-python",
   "name": "python",
   "nbconvert_exporter": "python",
   "pygments_lexer": "ipython3",
   "version": "3.8.8"
  }
 },
 "nbformat": 4,
 "nbformat_minor": 5
}
